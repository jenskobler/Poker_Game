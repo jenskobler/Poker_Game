{
 "cells": [
  {
   "cell_type": "code",
   "execution_count": 1,
   "metadata": {},
   "outputs": [
    {
     "name": "stdout",
     "output_type": "stream",
     "text": [
      "Player chip amount\n",
      "Spieler 1 has the following amount of chips: 10\n",
      "Spieler 2 has the following amount of chips: 10\n",
      "Show player cards of Spieler 1.\n",
      "(('3', 'clubs'), ('queen', 'clubs'))\n",
      "Show player cards of Spieler 2.\n",
      "(('4', 'spades'), ('9', 'spades'))\n",
      "Show table cards\n",
      "('2', 'diamonds')\n",
      "('jack', 'diamonds')\n",
      "('king', 'diamonds')\n",
      "Player chip amount\n",
      "Spieler 1 has the following amount of chips: 10\n",
      "Spieler 2 has the following amount of chips: 10\n",
      "The pot size is now 0 chips.\n",
      "Show player cards of Spieler 1.\n",
      "(('3', 'clubs'), ('queen', 'clubs'))\n",
      "Show player cards of Spieler 2.\n",
      "(('4', 'spades'), ('9', 'spades'))\n",
      "Show table cards\n",
      "('2', 'diamonds')\n",
      "('jack', 'diamonds')\n",
      "('king', 'diamonds')\n",
      "('5', 'spades')\n",
      "Player chip amount\n",
      "Spieler 1 has the following amount of chips: 10\n",
      "Spieler 2 has the following amount of chips: 10\n",
      "The pot size is now 0 chips.\n",
      "Show player cards of Spieler 1.\n",
      "(('3', 'clubs'), ('queen', 'clubs'))\n",
      "Show player cards of Spieler 2.\n",
      "(('4', 'spades'), ('9', 'spades'))\n",
      "Show table cards\n",
      "('2', 'diamonds')\n",
      "('jack', 'diamonds')\n",
      "('king', 'diamonds')\n",
      "('5', 'spades')\n",
      "('ace', 'diamonds')\n",
      "Player chip amount\n",
      "Spieler 1 has the following amount of chips: 10\n",
      "Spieler 2 has the following amount of chips: 10\n",
      "The pot size is now 0 chips.\n",
      "Show player cards of Spieler 1.\n",
      "(('3', 'clubs'), ('queen', 'clubs'))\n",
      "Show player cards of Spieler 2.\n",
      "(('4', 'spades'), ('9', 'spades'))\n",
      "royal_flush\n",
      "straight_flush\n",
      "four_of_a_kind\n",
      "full_house\n",
      "flush\n",
      "straight\n",
      "three_of_a_kind\n",
      "two_pair\n",
      "pair\n",
      "high_card\n",
      "21\n",
      "royal_flush\n",
      "straight_flush\n",
      "four_of_a_kind\n",
      "full_house\n",
      "flush\n",
      "straight\n",
      "three_of_a_kind\n",
      "two_pair\n",
      "pair\n",
      "high_card\n",
      "21\n",
      "royal_flush\n",
      "straight_flush\n",
      "four_of_a_kind\n",
      "full_house\n",
      "flush\n",
      "straight\n",
      "three_of_a_kind\n",
      "two_pair\n",
      "pair\n",
      "high_card\n",
      "2\n",
      "Player 1 won.\n"
     ]
    }
   ],
   "source": [
    "from poker_code import PokerGame\n",
    "poker_game = PokerGame()\n",
    "poker_game.initialize_game()\n",
    "poker_game.stage_1()\n",
    "poker_game.poker_pot.get_pot_size()\n",
    "poker_game.stage_2()\n",
    "poker_game.stage_3()\n",
    "poker_game.stage_4()\n",
    "poker_game.determine_winner()"
   ]
  },
  {
   "cell_type": "code",
   "execution_count": 2,
   "metadata": {},
   "outputs": [],
   "source": [
    "from poker_code import cards_vector_array_2_cards_object_list"
   ]
  },
  {
   "cell_type": "code",
   "execution_count": 3,
   "metadata": {},
   "outputs": [
    {
     "name": "stdout",
     "output_type": "stream",
     "text": [
      "('queen', 'clubs')\n",
      "('jack', 'diamonds')\n",
      "('king', 'diamonds')\n",
      "('5', 'spades')\n",
      "('ace', 'diamonds')\n"
     ]
    }
   ],
   "source": [
    "for card in cards_vector_array_2_cards_object_list(poker_game.best_hand_of_player_1[\"CARD_VECTOR_ARRAY\"]):\n",
    "    print(card.return_string())"
   ]
  },
  {
   "cell_type": "code",
   "execution_count": 4,
   "metadata": {},
   "outputs": [
    {
     "name": "stdout",
     "output_type": "stream",
     "text": [
      "('9', 'spades')\n",
      "('jack', 'diamonds')\n",
      "('king', 'diamonds')\n",
      "('5', 'spades')\n",
      "('ace', 'diamonds')\n"
     ]
    }
   ],
   "source": [
    "for card in cards_vector_array_2_cards_object_list(poker_game.best_hand_of_player_2[\"CARD_VECTOR_ARRAY\"]):\n",
    "    print(card.return_string())"
   ]
  },
  {
   "cell_type": "code",
   "execution_count": null,
   "metadata": {},
   "outputs": [],
   "source": []
  }
 ],
 "metadata": {
  "kernelspec": {
   "display_name": "env_02_rl",
   "language": "python",
   "name": "python3"
  },
  "language_info": {
   "codemirror_mode": {
    "name": "ipython",
    "version": 3
   },
   "file_extension": ".py",
   "mimetype": "text/x-python",
   "name": "python",
   "nbconvert_exporter": "python",
   "pygments_lexer": "ipython3",
   "version": "3.13.2"
  }
 },
 "nbformat": 4,
 "nbformat_minor": 2
}
